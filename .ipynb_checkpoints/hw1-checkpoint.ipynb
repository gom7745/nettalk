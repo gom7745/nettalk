{
 "cells": [
  {
   "cell_type": "code",
   "execution_count": 1,
   "metadata": {
    "collapsed": true
   },
   "outputs": [],
   "source": [
    "commonWordList = []\n",
    "for line in open('common.txt', 'r'):\n",
    "    line = line.lower()\n",
    "    line = line.split()\n",
    "    commonWordList += line"
   ]
  },
  {
   "cell_type": "code",
   "execution_count": 2,
   "metadata": {
    "collapsed": false
   },
   "outputs": [
    {
     "name": "stdout",
     "output_type": "stream",
     "text": [
      "datasets are ready!\n"
     ]
    }
   ],
   "source": [
    "# %load nettalk.py\n",
    "#!/usr/bin/python\n",
    "\n",
    "from mapping import *\n",
    "from  misc import *\n",
    "from ann import *\n",
    "from pybrain import *\n",
    "from pybrain.supervised.trainers import BackpropTrainer\n",
    "from pybrain.tools.shortcuts import buildNetwork\n",
    "from pybrain.datasets import SupervisedDataSet\n",
    "\n",
    "#main nettalk implementation\n",
    "\n",
    "def load_nettalk_data(filename):\n",
    "    data = []\n",
    "    file = open(filename,'r')\n",
    "    for line in file:\n",
    "        #print items\n",
    "        data.append(line)\n",
    "#     shuffle(data)\n",
    "    retData = []\n",
    "    for line in data:\n",
    "        line = line.split()\n",
    "        retData.append(line)\n",
    "    #print data\n",
    "    return retData\n",
    "\n",
    "delta = []\n",
    "values = []\n",
    "weights = []\n",
    "gradient = []\n",
    "eta = 1.0\n",
    "a = .9\n",
    "passes = 1 #number of passes through the set\n",
    "words = 20007 #number of words to use\n",
    "offset = 0 #offset from the beginning of the list\n",
    "groupSize = 29 #size of the input group for each character\n",
    "margin = 3 #number of characters on either side of the current character\n",
    "frame = 2*margin+1 #total size of the character window\n",
    "input = frame * groupSize #total number of input units\n",
    "topology = [input,20,26]\n",
    "charIndex = [] #this holds the start indices for each input group\n",
    "for i in xrange(0,input,groupSize):\n",
    "    charIndex.append(i)\n",
    "\n",
    "allocate_lists(topology,values,weights,delta,gradient)\n",
    "\n",
    "r.seed(5890)\n",
    "initialize_weights(weights,topology)\n",
    "\n",
    "\n",
    "#print charIndex\n",
    "datasets = load_nettalk_data('list')\n",
    "#print data\n",
    "\n",
    "# data = [SupervisedDataSet(input, 26) for i in xrange(147)]\n",
    "data = SupervisedDataSet(input, 26)\n",
    "phonenemsData = SupervisedDataSet(input, 21)\n",
    "stressesData = SupervisedDataSet(input, 5)\n",
    "tmp = []\n",
    "\n",
    "count = 0\n",
    "for i in xrange(passes):\n",
    "    numCorrect = 0\n",
    "    total = 0\n",
    "    averageError = 0\n",
    "    for word in xrange(words):\n",
    "        if datasets[word][0] not in commonWordList:\n",
    "            continue\n",
    "        count += 1\n",
    "        tmp.append(datasets[word][0])\n",
    "        #print 'word: ', data[word][0]\n",
    "        strlen = len(datasets[word][0])\n",
    "        for pos in xrange(strlen):\n",
    "            #print 'position: ',pos\n",
    "            start = pos - margin\n",
    "            end = pos + margin + 1\n",
    "            window = []\n",
    "            index = 0\n",
    "            for j in xrange(start,end):\n",
    "                if(j < 0 or j >= strlen):\n",
    "                    newChar = '-'\n",
    "                else:\n",
    "                    newChar = datasets[word][0][j]\n",
    "                converted = map_char(newChar)\n",
    "                window += converted\n",
    "                index += 1\n",
    "            #print values[0]\n",
    "\n",
    "            #set the desired output, get the phoneme and stress vectors and join them\n",
    "            pVector = map_phoneme(datasets[word][1][pos])\n",
    "            sVector = map_stress(datasets[word][2][pos])\n",
    "            desired = pVector + sVector\n",
    "            #print desired\n",
    "\n",
    "            #add SupervisedDataSet data\n",
    "#             data[count/1000].addSample(window ,desired)\n",
    "            data.addSample(window ,desired) \n",
    "            \n",
    "#             phonenemsData.addSample(window, pVector)\n",
    "#             stressesData.addSample(window, sVector)\n",
    "            \n",
    "print 'datasets are ready!'"
   ]
  },
  {
   "cell_type": "code",
   "execution_count": 3,
   "metadata": {
    "collapsed": false
   },
   "outputs": [],
   "source": [
    "net0 = buildNetwork(input, 26, hiddenclass=SigmoidLayer)\n",
    "net15 = buildNetwork(input, 15, 26, hiddenclass=SigmoidLayer)\n",
    "net30 = buildNetwork(input, 30, 26, hiddenclass=SigmoidLayer)\n",
    "net60 = buildNetwork(input, 60, 26, hiddenclass=SigmoidLayer)\n",
    "net120 = buildNetwork(input, 120, 26, hiddenclass=SigmoidLayer)"
   ]
  },
  {
   "cell_type": "code",
   "execution_count": 4,
   "metadata": {
    "collapsed": false
   },
   "outputs": [
    {
     "ename": "KeyError",
     "evalue": "0",
     "output_type": "error",
     "traceback": [
      "\u001b[1;31m---------------------------------------------------------------------------\u001b[0m",
      "\u001b[1;31mKeyError\u001b[0m                                  Traceback (most recent call last)",
      "\u001b[1;32m<ipython-input-4-eccdbbccf7c2>\u001b[0m in \u001b[0;36m<module>\u001b[1;34m()\u001b[0m\n\u001b[0;32m      7\u001b[0m \u001b[0mtrainer120\u001b[0m \u001b[1;33m=\u001b[0m \u001b[0mBackpropTrainer\u001b[0m\u001b[1;33m(\u001b[0m\u001b[0mnet120\u001b[0m\u001b[1;33m,\u001b[0m \u001b[0mweightdecay\u001b[0m\u001b[1;33m=\u001b[0m\u001b[1;36m0.9\u001b[0m\u001b[1;33m)\u001b[0m\u001b[1;33m\u001b[0m\u001b[0m\n\u001b[0;32m      8\u001b[0m \u001b[1;32mfor\u001b[0m \u001b[0mi\u001b[0m \u001b[1;32min\u001b[0m \u001b[0mxrange\u001b[0m\u001b[1;33m(\u001b[0m\u001b[0mNOSample\u001b[0m\u001b[1;33m)\u001b[0m\u001b[1;33m:\u001b[0m\u001b[1;33m\u001b[0m\u001b[0m\n\u001b[1;32m----> 9\u001b[1;33m     \u001b[0mtrainer0\u001b[0m\u001b[1;33m.\u001b[0m\u001b[0msetData\u001b[0m\u001b[1;33m(\u001b[0m\u001b[0mdata\u001b[0m\u001b[1;33m[\u001b[0m\u001b[0mi\u001b[0m\u001b[1;33m]\u001b[0m\u001b[1;33m)\u001b[0m\u001b[1;33m\u001b[0m\u001b[0m\n\u001b[0m\u001b[0;32m     10\u001b[0m     \u001b[0mtrainer15\u001b[0m\u001b[1;33m.\u001b[0m\u001b[0msetData\u001b[0m\u001b[1;33m(\u001b[0m\u001b[0mdata\u001b[0m\u001b[1;33m[\u001b[0m\u001b[0mi\u001b[0m\u001b[1;33m]\u001b[0m\u001b[1;33m)\u001b[0m\u001b[1;33m\u001b[0m\u001b[0m\n\u001b[0;32m     11\u001b[0m     \u001b[0mtrainer30\u001b[0m\u001b[1;33m.\u001b[0m\u001b[0msetData\u001b[0m\u001b[1;33m(\u001b[0m\u001b[0mdata\u001b[0m\u001b[1;33m[\u001b[0m\u001b[0mi\u001b[0m\u001b[1;33m]\u001b[0m\u001b[1;33m)\u001b[0m\u001b[1;33m\u001b[0m\u001b[0m\n",
      "\u001b[1;32m/home/gom7745/ENV/local/lib/python2.7/site-packages/pybrain/datasets/dataset.pyc\u001b[0m in \u001b[0;36m__getitem__\u001b[1;34m(self, field)\u001b[0m\n\u001b[0;32m     43\u001b[0m     \u001b[1;32mdef\u001b[0m \u001b[0m__getitem__\u001b[0m\u001b[1;33m(\u001b[0m\u001b[0mself\u001b[0m\u001b[1;33m,\u001b[0m \u001b[0mfield\u001b[0m\u001b[1;33m)\u001b[0m\u001b[1;33m:\u001b[0m\u001b[1;33m\u001b[0m\u001b[0m\n\u001b[0;32m     44\u001b[0m         \u001b[1;34m\"\"\"Return the given field.\"\"\"\u001b[0m\u001b[1;33m\u001b[0m\u001b[0m\n\u001b[1;32m---> 45\u001b[1;33m         \u001b[1;32mreturn\u001b[0m \u001b[0mself\u001b[0m\u001b[1;33m.\u001b[0m\u001b[0mgetField\u001b[0m\u001b[1;33m(\u001b[0m\u001b[0mfield\u001b[0m\u001b[1;33m)\u001b[0m\u001b[1;33m\u001b[0m\u001b[0m\n\u001b[0m\u001b[0;32m     46\u001b[0m \u001b[1;33m\u001b[0m\u001b[0m\n\u001b[0;32m     47\u001b[0m     \u001b[1;32mdef\u001b[0m \u001b[0m__iter__\u001b[0m\u001b[1;33m(\u001b[0m\u001b[0mself\u001b[0m\u001b[1;33m)\u001b[0m\u001b[1;33m:\u001b[0m\u001b[1;33m\u001b[0m\u001b[0m\n",
      "\u001b[1;32m/home/gom7745/ENV/local/lib/python2.7/site-packages/pybrain/datasets/dataset.pyc\u001b[0m in \u001b[0;36mgetField\u001b[1;34m(self, label)\u001b[0m\n\u001b[0;32m    243\u001b[0m             \u001b[1;32mreturn\u001b[0m \u001b[0mself\u001b[0m\u001b[1;33m.\u001b[0m\u001b[0mdata\u001b[0m\u001b[1;33m[\u001b[0m\u001b[0mlabel\u001b[0m\u001b[1;33m]\u001b[0m\u001b[1;33m[\u001b[0m\u001b[1;33m:\u001b[0m\u001b[0mself\u001b[0m\u001b[1;33m.\u001b[0m\u001b[0mendmarker\u001b[0m\u001b[1;33m[\u001b[0m\u001b[0mlabel\u001b[0m\u001b[1;33m]\u001b[0m\u001b[1;33m]\u001b[0m\u001b[1;33m.\u001b[0m\u001b[0mtolist\u001b[0m\u001b[1;33m(\u001b[0m\u001b[1;33m)\u001b[0m\u001b[1;33m\u001b[0m\u001b[0m\n\u001b[0;32m    244\u001b[0m         \u001b[1;32melse\u001b[0m\u001b[1;33m:\u001b[0m\u001b[1;33m\u001b[0m\u001b[0m\n\u001b[1;32m--> 245\u001b[1;33m             \u001b[1;32mreturn\u001b[0m \u001b[0mself\u001b[0m\u001b[1;33m.\u001b[0m\u001b[0mdata\u001b[0m\u001b[1;33m[\u001b[0m\u001b[0mlabel\u001b[0m\u001b[1;33m]\u001b[0m\u001b[1;33m[\u001b[0m\u001b[1;33m:\u001b[0m\u001b[0mself\u001b[0m\u001b[1;33m.\u001b[0m\u001b[0mendmarker\u001b[0m\u001b[1;33m[\u001b[0m\u001b[0mlabel\u001b[0m\u001b[1;33m]\u001b[0m\u001b[1;33m]\u001b[0m\u001b[1;33m\u001b[0m\u001b[0m\n\u001b[0m\u001b[0;32m    246\u001b[0m \u001b[1;33m\u001b[0m\u001b[0m\n\u001b[0;32m    247\u001b[0m     \u001b[1;32mdef\u001b[0m \u001b[0mhasField\u001b[0m\u001b[1;33m(\u001b[0m\u001b[0mself\u001b[0m\u001b[1;33m,\u001b[0m \u001b[0mlabel\u001b[0m\u001b[1;33m)\u001b[0m\u001b[1;33m:\u001b[0m\u001b[1;33m\u001b[0m\u001b[0m\n",
      "\u001b[1;31mKeyError\u001b[0m: 0"
     ]
    }
   ],
   "source": [
    "errList = [[1] for i in xrange(5)]\n",
    "NOSample = 3\n",
    "trainer0 = BackpropTrainer(net0, weightdecay=0.9)\n",
    "trainer15 = BackpropTrainer(net15, weightdecay=0.9)\n",
    "trainer30 = BackpropTrainer(net30, weightdecay=0.9)\n",
    "trainer60 = BackpropTrainer(net60, weightdecay=0.9)\n",
    "trainer120 = BackpropTrainer(net120, weightdecay=0.9)\n",
    "for i in xrange(NOSample):\n",
    "#     trainer0.setData(data[i])\n",
    "#     trainer15.setData(data[i])\n",
    "#     trainer30.setData(data[i])\n",
    "#     trainer60.setData(data[i])\n",
    "#     trainer120.setData(data[i])\n",
    "    err0 = trainer0.train()\n",
    "    err60 = trainer60.train()\n",
    "    err30 = trainer30.train()\n",
    "    err15 = trainer15.train()\n",
    "    err120 = trainer120.train()\n",
    "    errList[0].append(err0)\n",
    "    errList[1].append(err15)\n",
    "    errList[2].append(err30)\n",
    "    errList[3].append(err60)\n",
    "    errList[4].append(err120)"
   ]
  },
  {
   "cell_type": "code",
   "execution_count": 42,
   "metadata": {
    "collapsed": false
   },
   "outputs": [
    {
     "name": "stdout",
     "output_type": "stream",
     "text": [
      "[[1, 0.18844806879892967, 0.041414744235594991, 0.041482322181460404], [1, 0.081558591191724358, 0.040970927912324144, 0.040986185614047495], [1, 0.1188417324737069, 0.041360777092914164, 0.041390380640706034], [1, 0.16927240120837825, 0.042930212739831372, 0.042963895748325966], [1, 0.31210051866100147, 0.046093688622287243, 0.046495204352723536]]\n"
     ]
    }
   ],
   "source": [
    "print errList"
   ]
  },
  {
   "cell_type": "code",
   "execution_count": 43,
   "metadata": {
    "collapsed": true
   },
   "outputs": [],
   "source": [
    "%matplotlib inline\n",
    "\n",
    "import matplotlib\n",
    "import numpy as np\n",
    "import matplotlib.pyplot as plt"
   ]
  },
  {
   "cell_type": "code",
   "execution_count": 44,
   "metadata": {
    "collapsed": true
   },
   "outputs": [],
   "source": [
    "accList = [[1 - j for j in i] for i in errList]"
   ]
  },
  {
   "cell_type": "code",
   "execution_count": 45,
   "metadata": {
    "collapsed": true
   },
   "outputs": [],
   "source": [
    "labelList = [0, 15, 30, 60, 120]"
   ]
  },
  {
   "cell_type": "code",
   "execution_count": 46,
   "metadata": {
    "collapsed": false
   },
   "outputs": [
    {
     "data": {
      "image/png": "[encoded data removed]",
      "text/plain": [
       "<matplotlib.figure.Figure at 0x7fad875729d0>"
      ]
     },
     "metadata": {},
     "output_type": "display_data"
    }
   ],
   "source": [
    "for i in xrange(len(accList)):\n",
    "    plt.plot(range(4), accList[i], label=labelList[i])\n",
    "plt.legend(loc='lower right', frameon=False)\n",
    "plt.show()"
   ]
  },
  {
   "cell_type": "code",
   "execution_count": null,
   "metadata": {
    "collapsed": true
   },
   "outputs": [],
   "source": [
    "netPhonenems = buildNetwork(29, 120, 21, hiddenclass=SigmoidLayer)\n",
    "netStresses = buildNetwork(29, 120, 5, hiddenclass=SigmoidLayer)"
   ]
  },
  {
   "cell_type": "code",
   "execution_count": null,
   "metadata": {
    "collapsed": true
   },
   "outputs": [],
   "source": [
    "trainer0 = BackpropTrainer(netPhonenems, phonenemsData)\n",
    "trainer60 = BackpropTrainer(netStresses, stressesData)"
   ]
  },
  {
   "cell_type": "code",
   "execution_count": 64,
   "metadata": {
    "collapsed": false
   },
   "outputs": [
    {
     "name": "stdout",
     "output_type": "stream",
     "text": [
      "[[0.98079428433000604, 0.98146154690403065, 0.98181444759289038], [0.97112419386897242, 0.97332248894269346, 0.9747659204080743], [0.97395786904957504, 0.97592448685854027, 0.97739231311394481], [0.97639033959464816, 0.9776184109817101, 0.9785798522980832], [0.97349565539884297, 0.97644667617709036, 0.97788806918059712]]\n"
     ]
    }
   ],
   "source": [
    "print accList"
   ]
  },
  {
   "cell_type": "code",
   "execution_count": 61,
   "metadata": {
    "collapsed": false
   },
   "outputs": [
    {
     "name": "stdout",
     "output_type": "stream",
     "text": [
      "[[0.01920571566999394, 0.01853845309596933, 0.018185552407109642], [0.028875806131027575, 0.026677511057306532, 0.025234079591925723], [0.026042130950425003, 0.024075513141459767, 0.022607686886055241], [0.023609660405351847, 0.022381589018289953, 0.021420147701916813], [0.02650434460115705, 0.02355332382290961, 0.022111930819402846]]\n"
     ]
    }
   ],
   "source": [
    "print errList"
   ]
  }
 ],
 "metadata": {
  "kernelspec": {
   "display_name": "Python 2",
   "language": "python",
   "name": "python2"
  },
  "language_info": {
   "codemirror_mode": {
    "name": "ipython",
    "version": 2
   },
   "file_extension": ".py",
   "mimetype": "text/x-python",
   "name": "python",
   "nbconvert_exporter": "python",
   "pygments_lexer": "ipython2",
   "version": "2.7.6"
  }
 },
 "nbformat": 4,
 "nbformat_minor": 0
}
